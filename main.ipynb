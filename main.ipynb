{
 "cells": [
  {
   "cell_type": "code",
   "execution_count": 19,
   "id": "7c544fde-2d9e-4ad4-9dbf-e09ad96cafed",
   "metadata": {},
   "outputs": [],
   "source": [
    "import regex as re\n",
    "import nltk\n",
    "import pandas as pd"
   ]
  },
  {
   "cell_type": "code",
   "execution_count": 20,
   "id": "8b720ee0-6631-474f-94e0-61383948bff9",
   "metadata": {},
   "outputs": [],
   "source": [
    "def tokenize(text):\n",
    "    return re.findall(r'[\\w-]*\\p{L}[\\w-]*', text)"
   ]
  },
  {
   "cell_type": "code",
   "execution_count": 21,
   "id": "57a108ba-3578-4054-814e-03f71ef08269",
   "metadata": {},
   "outputs": [
    {
     "name": "stdout",
     "output_type": "stream",
     "text": [
      "Let's defeat SaRs-CoV-2 together in 2020!\n",
      "Let|s|defeat|SaRs-CoV-2|together|in\n"
     ]
    }
   ],
   "source": [
    "text = \"Let's defeat SaRs-CoV-2 together in 2020!\"\n",
    "\n",
    "print(text)\n",
    "print(\"|\".join(tokenize(text)))"
   ]
  },
  {
   "cell_type": "code",
   "execution_count": 22,
   "id": "4ce0d795-3e49-4974-b3a3-f8e3ab655fd9",
   "metadata": {},
   "outputs": [
    {
     "data": {
      "text/plain": [
       "<module 'nltk' from 'C:\\\\Python3\\\\Lib\\\\site-packages\\\\nltk\\\\__init__.py'>"
      ]
     },
     "execution_count": 22,
     "metadata": {},
     "output_type": "execute_result"
    }
   ],
   "source": [
    "nltk"
   ]
  },
  {
   "cell_type": "code",
   "execution_count": 23,
   "id": "07f4a22c-e16f-4ad6-b3b6-d0f9b0a6307e",
   "metadata": {},
   "outputs": [
    {
     "data": {
      "text/plain": [
       "['a', 'about', 'above', 'after', 'again', 'against', 'ain', 'all', 'am', 'an']"
      ]
     },
     "execution_count": 23,
     "metadata": {},
     "output_type": "execute_result"
    }
   ],
   "source": [
    "# Stop words = determiners, auxiliary verbs, pronouns, adverbs, ...\n",
    "# -- don't carry much information, their high-frequencies obscure insights...\n",
    "\n",
    "stopwords = set(nltk.corpus.stopwords.words('english'))\n",
    "list(sorted(stopwords))[:10]"
   ]
  },
  {
   "cell_type": "code",
   "execution_count": 24,
   "id": "9994ddda-d97a-4b0b-9492-cccdf9aee00a",
   "metadata": {},
   "outputs": [],
   "source": [
    "def getstopwords(stopwords = nltk.corpus.stopwords.words('english'), include_stopwords = set(), exclude_stopwords = set()):\n",
    "    return set(stopwords) | include_stopwords - exclude_stopwords"
   ]
  },
  {
   "cell_type": "code",
   "execution_count": 31,
   "id": "b34d4bb5-f55f-49aa-b457-e975a56e319b",
   "metadata": {},
   "outputs": [],
   "source": [
    "def remove_stop(tokens):\n",
    "    return [t for t in tokens if t.lower() not in stopwords]"
   ]
  },
  {
   "cell_type": "code",
   "execution_count": 32,
   "id": "ba444acf-a4f9-4c2c-8f93-ac0c2977892b",
   "metadata": {},
   "outputs": [],
   "source": [
    "pipeline = [str.lower, tokenize, remove_stop]"
   ]
  },
  {
   "cell_type": "code",
   "execution_count": 33,
   "id": "4c48da8c-325f-4c00-8919-03c16f95a73d",
   "metadata": {},
   "outputs": [
    {
     "data": {
      "text/plain": [
       "[\"shouldn't\", 'about', 'as', \"i'd\", \"it's\"]"
      ]
     },
     "execution_count": 33,
     "metadata": {},
     "output_type": "execute_result"
    }
   ],
   "source": [
    "stopwords = getstopwords()\n",
    "list(stopwords)[:5]"
   ]
  },
  {
   "cell_type": "code",
   "execution_count": 34,
   "id": "45782417-99e7-44c6-82d5-c87dfb00a4d5",
   "metadata": {},
   "outputs": [],
   "source": [
    "def prepare(text, pipeline):\n",
    "    tokens = text\n",
    "    for f in pipeline:\n",
    "        tokens = f(tokens)\n",
    "    return tokens"
   ]
  },
  {
   "cell_type": "code",
   "execution_count": 35,
   "id": "e337b388-7c0c-4de6-837f-2985434b7bb8",
   "metadata": {},
   "outputs": [
    {
     "data": {
      "text/html": [
       "<div>\n",
       "<style scoped>\n",
       "    .dataframe tbody tr th:only-of-type {\n",
       "        vertical-align: middle;\n",
       "    }\n",
       "\n",
       "    .dataframe tbody tr th {\n",
       "        vertical-align: top;\n",
       "    }\n",
       "\n",
       "    .dataframe thead th {\n",
       "        text-align: right;\n",
       "    }\n",
       "</style>\n",
       "<table border=\"1\" class=\"dataframe\">\n",
       "  <thead>\n",
       "    <tr style=\"text-align: right;\">\n",
       "      <th></th>\n",
       "      <th>session</th>\n",
       "      <th>year</th>\n",
       "      <th>country</th>\n",
       "      <th>country_name</th>\n",
       "      <th>speaker</th>\n",
       "      <th>position</th>\n",
       "      <th>text</th>\n",
       "    </tr>\n",
       "  </thead>\n",
       "  <tbody>\n",
       "    <tr>\n",
       "      <th>7305</th>\n",
       "      <td>69</td>\n",
       "      <td>2014</td>\n",
       "      <td>VEN</td>\n",
       "      <td>Venezuela, Bolivarian Republic of</td>\n",
       "      <td>Nicolás Maduro Moros</td>\n",
       "      <td>President</td>\n",
       "      <td>At \\nthe outset, as this is the first time tha...</td>\n",
       "    </tr>\n",
       "    <tr>\n",
       "      <th>3677</th>\n",
       "      <td>50</td>\n",
       "      <td>1995</td>\n",
       "      <td>MLT</td>\n",
       "      <td>Malta</td>\n",
       "      <td>Mr. de Marco</td>\n",
       "      <td>Deputy Prime Minister</td>\n",
       "      <td>It is with great pleasure that\\nI congratulate...</td>\n",
       "    </tr>\n",
       "  </tbody>\n",
       "</table>\n",
       "</div>"
      ],
      "text/plain": [
       "      session  year country                       country_name  \\\n",
       "7305       69  2014     VEN  Venezuela, Bolivarian Republic of   \n",
       "3677       50  1995     MLT                              Malta   \n",
       "\n",
       "                   speaker               position  \\\n",
       "7305  Nicolás Maduro Moros              President   \n",
       "3677          Mr. de Marco  Deputy Prime Minister   \n",
       "\n",
       "                                                   text  \n",
       "7305  At \\nthe outset, as this is the first time tha...  \n",
       "3677  It is with great pleasure that\\nI congratulate...  "
      ]
     },
     "execution_count": 35,
     "metadata": {},
     "output_type": "execute_result"
    }
   ],
   "source": [
    "df = pd.read_csv('data/un-general-debates-blueprint.csv')\n",
    "df.sample(2)"
   ]
  },
  {
   "cell_type": "code",
   "execution_count": 38,
   "id": "7c4c7cb1-2c16-4ab5-a132-b1f0968885a7",
   "metadata": {},
   "outputs": [],
   "source": [
    "df['tokens'] = df['text'].apply(prepare, pipeline=pipeline)"
   ]
  },
  {
   "cell_type": "code",
   "execution_count": 39,
   "id": "6450461c-6bca-4254-b43a-0f5e6af27781",
   "metadata": {},
   "outputs": [
    {
     "data": {
      "text/html": [
       "<div>\n",
       "<style scoped>\n",
       "    .dataframe tbody tr th:only-of-type {\n",
       "        vertical-align: middle;\n",
       "    }\n",
       "\n",
       "    .dataframe tbody tr th {\n",
       "        vertical-align: top;\n",
       "    }\n",
       "\n",
       "    .dataframe thead th {\n",
       "        text-align: right;\n",
       "    }\n",
       "</style>\n",
       "<table border=\"1\" class=\"dataframe\">\n",
       "  <thead>\n",
       "    <tr style=\"text-align: right;\">\n",
       "      <th></th>\n",
       "      <th>session</th>\n",
       "      <th>year</th>\n",
       "      <th>country</th>\n",
       "      <th>country_name</th>\n",
       "      <th>speaker</th>\n",
       "      <th>position</th>\n",
       "      <th>text</th>\n",
       "      <th>prepared_text</th>\n",
       "      <th>tokens</th>\n",
       "    </tr>\n",
       "  </thead>\n",
       "  <tbody>\n",
       "    <tr>\n",
       "      <th>0</th>\n",
       "      <td>25</td>\n",
       "      <td>1970</td>\n",
       "      <td>ALB</td>\n",
       "      <td>Albania</td>\n",
       "      <td>Mr. NAS</td>\n",
       "      <td>NaN</td>\n",
       "      <td>33: May I first convey to our President the co...</td>\n",
       "      <td>[may, first, convey, president, congratulation...</td>\n",
       "      <td>[may, first, convey, president, congratulation...</td>\n",
       "    </tr>\n",
       "    <tr>\n",
       "      <th>1</th>\n",
       "      <td>25</td>\n",
       "      <td>1970</td>\n",
       "      <td>ARG</td>\n",
       "      <td>Argentina</td>\n",
       "      <td>Mr. DE PABLO PARDO</td>\n",
       "      <td>NaN</td>\n",
       "      <td>177.\\t : It is a fortunate coincidence that pr...</td>\n",
       "      <td>[fortunate, coincidence, precisely, time, unit...</td>\n",
       "      <td>[fortunate, coincidence, precisely, time, unit...</td>\n",
       "    </tr>\n",
       "    <tr>\n",
       "      <th>2</th>\n",
       "      <td>25</td>\n",
       "      <td>1970</td>\n",
       "      <td>AUS</td>\n",
       "      <td>Australia</td>\n",
       "      <td>Mr. McMAHON</td>\n",
       "      <td>NaN</td>\n",
       "      <td>100.\\t  It is a pleasure for me to extend to y...</td>\n",
       "      <td>[pleasure, extend, mr, president, warmest, con...</td>\n",
       "      <td>[pleasure, extend, mr, president, warmest, con...</td>\n",
       "    </tr>\n",
       "    <tr>\n",
       "      <th>3</th>\n",
       "      <td>25</td>\n",
       "      <td>1970</td>\n",
       "      <td>AUT</td>\n",
       "      <td>Austria</td>\n",
       "      <td>Mr. KIRCHSCHLAEGER</td>\n",
       "      <td>NaN</td>\n",
       "      <td>155.\\t  May I begin by expressing to Ambassado...</td>\n",
       "      <td>[may, begin, expressing, ambassador, hambro, b...</td>\n",
       "      <td>[may, begin, expressing, ambassador, hambro, b...</td>\n",
       "    </tr>\n",
       "    <tr>\n",
       "      <th>4</th>\n",
       "      <td>25</td>\n",
       "      <td>1970</td>\n",
       "      <td>BEL</td>\n",
       "      <td>Belgium</td>\n",
       "      <td>Mr. HARMEL</td>\n",
       "      <td>NaN</td>\n",
       "      <td>176. No doubt each of us, before coming up to ...</td>\n",
       "      <td>[doubt, us, coming, rostrum, wonders, usefulne...</td>\n",
       "      <td>[doubt, us, coming, rostrum, wonders, usefulne...</td>\n",
       "    </tr>\n",
       "  </tbody>\n",
       "</table>\n",
       "</div>"
      ],
      "text/plain": [
       "   session  year country country_name             speaker position  \\\n",
       "0       25  1970     ALB      Albania             Mr. NAS      NaN   \n",
       "1       25  1970     ARG    Argentina  Mr. DE PABLO PARDO      NaN   \n",
       "2       25  1970     AUS    Australia         Mr. McMAHON      NaN   \n",
       "3       25  1970     AUT      Austria  Mr. KIRCHSCHLAEGER      NaN   \n",
       "4       25  1970     BEL      Belgium          Mr. HARMEL      NaN   \n",
       "\n",
       "                                                text  \\\n",
       "0  33: May I first convey to our President the co...   \n",
       "1  177.\\t : It is a fortunate coincidence that pr...   \n",
       "2  100.\\t  It is a pleasure for me to extend to y...   \n",
       "3  155.\\t  May I begin by expressing to Ambassado...   \n",
       "4  176. No doubt each of us, before coming up to ...   \n",
       "\n",
       "                                       prepared_text  \\\n",
       "0  [may, first, convey, president, congratulation...   \n",
       "1  [fortunate, coincidence, precisely, time, unit...   \n",
       "2  [pleasure, extend, mr, president, warmest, con...   \n",
       "3  [may, begin, expressing, ambassador, hambro, b...   \n",
       "4  [doubt, us, coming, rostrum, wonders, usefulne...   \n",
       "\n",
       "                                              tokens  \n",
       "0  [may, first, convey, president, congratulation...  \n",
       "1  [fortunate, coincidence, precisely, time, unit...  \n",
       "2  [pleasure, extend, mr, president, warmest, con...  \n",
       "3  [may, begin, expressing, ambassador, hambro, b...  \n",
       "4  [doubt, us, coming, rostrum, wonders, usefulne...  "
      ]
     },
     "execution_count": 39,
     "metadata": {},
     "output_type": "execute_result"
    }
   ],
   "source": [
    "df.head()"
   ]
  },
  {
   "cell_type": "code",
   "execution_count": 40,
   "id": "f0e793ab-ec59-4f49-a185-e30c4b2f1436",
   "metadata": {},
   "outputs": [],
   "source": [
    "df['num_tokens'] = df['tokens'].map(len)"
   ]
  },
  {
   "cell_type": "code",
   "execution_count": 41,
   "id": "681d533e-52df-4145-b0cf-2ed1b2060a28",
   "metadata": {},
   "outputs": [
    {
     "data": {
      "text/html": [
       "<div>\n",
       "<style scoped>\n",
       "    .dataframe tbody tr th:only-of-type {\n",
       "        vertical-align: middle;\n",
       "    }\n",
       "\n",
       "    .dataframe tbody tr th {\n",
       "        vertical-align: top;\n",
       "    }\n",
       "\n",
       "    .dataframe thead th {\n",
       "        text-align: right;\n",
       "    }\n",
       "</style>\n",
       "<table border=\"1\" class=\"dataframe\">\n",
       "  <thead>\n",
       "    <tr style=\"text-align: right;\">\n",
       "      <th></th>\n",
       "      <th>session</th>\n",
       "      <th>year</th>\n",
       "      <th>country</th>\n",
       "      <th>country_name</th>\n",
       "      <th>speaker</th>\n",
       "      <th>position</th>\n",
       "      <th>text</th>\n",
       "      <th>prepared_text</th>\n",
       "      <th>tokens</th>\n",
       "      <th>num_tokens</th>\n",
       "    </tr>\n",
       "  </thead>\n",
       "  <tbody>\n",
       "    <tr>\n",
       "      <th>0</th>\n",
       "      <td>25</td>\n",
       "      <td>1970</td>\n",
       "      <td>ALB</td>\n",
       "      <td>Albania</td>\n",
       "      <td>Mr. NAS</td>\n",
       "      <td>NaN</td>\n",
       "      <td>33: May I first convey to our President the co...</td>\n",
       "      <td>[may, first, convey, president, congratulation...</td>\n",
       "      <td>[may, first, convey, president, congratulation...</td>\n",
       "      <td>4092</td>\n",
       "    </tr>\n",
       "    <tr>\n",
       "      <th>1</th>\n",
       "      <td>25</td>\n",
       "      <td>1970</td>\n",
       "      <td>ARG</td>\n",
       "      <td>Argentina</td>\n",
       "      <td>Mr. DE PABLO PARDO</td>\n",
       "      <td>NaN</td>\n",
       "      <td>177.\\t : It is a fortunate coincidence that pr...</td>\n",
       "      <td>[fortunate, coincidence, precisely, time, unit...</td>\n",
       "      <td>[fortunate, coincidence, precisely, time, unit...</td>\n",
       "      <td>2341</td>\n",
       "    </tr>\n",
       "    <tr>\n",
       "      <th>2</th>\n",
       "      <td>25</td>\n",
       "      <td>1970</td>\n",
       "      <td>AUS</td>\n",
       "      <td>Australia</td>\n",
       "      <td>Mr. McMAHON</td>\n",
       "      <td>NaN</td>\n",
       "      <td>100.\\t  It is a pleasure for me to extend to y...</td>\n",
       "      <td>[pleasure, extend, mr, president, warmest, con...</td>\n",
       "      <td>[pleasure, extend, mr, president, warmest, con...</td>\n",
       "      <td>2575</td>\n",
       "    </tr>\n",
       "    <tr>\n",
       "      <th>3</th>\n",
       "      <td>25</td>\n",
       "      <td>1970</td>\n",
       "      <td>AUT</td>\n",
       "      <td>Austria</td>\n",
       "      <td>Mr. KIRCHSCHLAEGER</td>\n",
       "      <td>NaN</td>\n",
       "      <td>155.\\t  May I begin by expressing to Ambassado...</td>\n",
       "      <td>[may, begin, expressing, ambassador, hambro, b...</td>\n",
       "      <td>[may, begin, expressing, ambassador, hambro, b...</td>\n",
       "      <td>2166</td>\n",
       "    </tr>\n",
       "    <tr>\n",
       "      <th>4</th>\n",
       "      <td>25</td>\n",
       "      <td>1970</td>\n",
       "      <td>BEL</td>\n",
       "      <td>Belgium</td>\n",
       "      <td>Mr. HARMEL</td>\n",
       "      <td>NaN</td>\n",
       "      <td>176. No doubt each of us, before coming up to ...</td>\n",
       "      <td>[doubt, us, coming, rostrum, wonders, usefulne...</td>\n",
       "      <td>[doubt, us, coming, rostrum, wonders, usefulne...</td>\n",
       "      <td>2064</td>\n",
       "    </tr>\n",
       "  </tbody>\n",
       "</table>\n",
       "</div>"
      ],
      "text/plain": [
       "   session  year country country_name             speaker position  \\\n",
       "0       25  1970     ALB      Albania             Mr. NAS      NaN   \n",
       "1       25  1970     ARG    Argentina  Mr. DE PABLO PARDO      NaN   \n",
       "2       25  1970     AUS    Australia         Mr. McMAHON      NaN   \n",
       "3       25  1970     AUT      Austria  Mr. KIRCHSCHLAEGER      NaN   \n",
       "4       25  1970     BEL      Belgium          Mr. HARMEL      NaN   \n",
       "\n",
       "                                                text  \\\n",
       "0  33: May I first convey to our President the co...   \n",
       "1  177.\\t : It is a fortunate coincidence that pr...   \n",
       "2  100.\\t  It is a pleasure for me to extend to y...   \n",
       "3  155.\\t  May I begin by expressing to Ambassado...   \n",
       "4  176. No doubt each of us, before coming up to ...   \n",
       "\n",
       "                                       prepared_text  \\\n",
       "0  [may, first, convey, president, congratulation...   \n",
       "1  [fortunate, coincidence, precisely, time, unit...   \n",
       "2  [pleasure, extend, mr, president, warmest, con...   \n",
       "3  [may, begin, expressing, ambassador, hambro, b...   \n",
       "4  [doubt, us, coming, rostrum, wonders, usefulne...   \n",
       "\n",
       "                                              tokens  num_tokens  \n",
       "0  [may, first, convey, president, congratulation...        4092  \n",
       "1  [fortunate, coincidence, precisely, time, unit...        2341  \n",
       "2  [pleasure, extend, mr, president, warmest, con...        2575  \n",
       "3  [may, begin, expressing, ambassador, hambro, b...        2166  \n",
       "4  [doubt, us, coming, rostrum, wonders, usefulne...        2064  "
      ]
     },
     "execution_count": 41,
     "metadata": {},
     "output_type": "execute_result"
    }
   ],
   "source": [
    "df.head()"
   ]
  },
  {
   "cell_type": "code",
   "execution_count": null,
   "id": "2cdbd6dc-b3a5-4f31-b677-1feb2534009f",
   "metadata": {},
   "outputs": [],
   "source": []
  }
 ],
 "metadata": {
  "kernelspec": {
   "display_name": "Python 3 (ipykernel)",
   "language": "python",
   "name": "python3"
  },
  "language_info": {
   "codemirror_mode": {
    "name": "ipython",
    "version": 3
   },
   "file_extension": ".py",
   "mimetype": "text/x-python",
   "name": "python",
   "nbconvert_exporter": "python",
   "pygments_lexer": "ipython3",
   "version": "3.12.4"
  }
 },
 "nbformat": 4,
 "nbformat_minor": 5
}
